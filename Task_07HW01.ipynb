{
  "nbformat": 4,
  "nbformat_minor": 0,
  "metadata": {
    "colab": {
      "provenance": []
    },
    "kernelspec": {
      "name": "python3",
      "display_name": "Python 3"
    },
    "language_info": {
      "name": "python"
    }
  },
  "cells": [
    {
      "cell_type": "code",
      "execution_count": 7,
      "metadata": {
        "colab": {
          "base_uri": "https://localhost:8080/"
        },
        "id": "aWxodn2D_u1Q",
        "outputId": "b31c9541-db27-4f70-e53a-0eb9008c28e9"
      },
      "outputs": [
        {
          "output_type": "stream",
          "name": "stdout",
          "text": [
            "{}\n",
            "{'臺北市': 338, '': 48, '高雄市': 421, '臺中市': 419, '臺南市': 270, '基隆市': 56, '新竹市': 38, '嘉義市': 66, '新北市': 500, '桃園市': 263, '新竹縣': 45, '宜蘭縣': 75, '苗栗縣': 55, '彰化縣': 178, '南投縣': 66, '雲林縣': 128, '嘉義縣': 83, '屏東縣': 139, '澎湖縣': 10, '花蓮縣': 45, '臺東縣': 22, '金門縣': 5, '連江縣': 0}\n",
            "{'臺北市': 322490, '': 69210, '高雄市': 424170, '臺中市': 536710, '臺南市': 393900, '基隆市': 80100, '新竹市': 45630, '嘉義市': 107840, '新北市': 670270, '桃園市': 331940, '新竹縣': 51350, '宜蘭縣': 106900, '苗栗縣': 131080, '彰化縣': 219400, '南投縣': 91240, '雲林縣': 196990, '嘉義縣': 113180, '屏東縣': 184250, '澎湖縣': 12600, '花蓮縣': 57330, '臺東縣': 28510, '金門縣': 15510, '連江縣': 7930}\n"
          ]
        }
      ],
      "source": [
        "# 資料中提供詳細的全台藥局資訊，包含藥局名稱、地址、電話、營業時間等相關基本訊息，\n",
        "# 以及各藥局的note與成人和孩童的口罩數量，還有藥局所在的經緯度資訊。\n",
        "# 延伸應用：藥局口罩庫存查詢、補充庫存提醒、庫存地圖視覺化、預測口罩需求、預約系統\n",
        "\n",
        "\n",
        "import requests\n",
        "from requests import get\n",
        "import json\n",
        "\n",
        "# json.dumps()\n",
        "# 將python物件轉成json字串，返回type為str\n",
        "# 從python物件轉換為json字串\n",
        "\n",
        "# json.loads()\n",
        "# 將json字串，返回python物件，返回type為dict\n",
        "# 從json字串轉換為python物件\n",
        "\n",
        "\n",
        "\n",
        "# 利用 requests 對 API 來源發送一個請求\n",
        "url = 'https://raw.githubusercontent.com/kiang/pharmacies/master/json/points.json'\n",
        "response = requests.get(url)\n",
        "\n",
        "# 將請求回應的內容存成一個字串格式\n",
        "dic = response.text\n",
        "\n",
        "\n",
        "# 將長得像 json 格式的字串解析成字典或列表\n",
        "#python json字串轉成python物件需要使用json模塊的loads()\n",
        "data = json.loads(dic)\n",
        "#print(data)\n",
        "\n",
        "\n",
        "med_count = {} #建立一個空字典med_count\n",
        "print(med_count) #印出空字典\n",
        "\n",
        "# 填入欄位名稱\n",
        "for dic in data['features']:# 從 data['features'] 取出一個 dic 資料\n",
        "    conunty = dic['properties']['county'] #取出字典的properties與county欄位\n",
        "#    print(conunty)\n",
        "    if conunty not in med_count: #如果county不在med_count中\n",
        "         med_count[conunty] = 0 #則將county加入med_count,設為0\n",
        "    else:\n",
        "        med_count[conunty] += 1 #如果county在med_count中，則med_count[county] + 1\n",
        "print(med_count)\n",
        "\n",
        "# {'臺北市': 338, '': 48, '高雄市': 421, '臺中市': 419, '臺南市': 270, '基隆市': 56, '新竹市': 38, '嘉義市': 66, '新北市': 500, '桃園市': 263, '新竹縣': 45, '宜蘭縣': 75, '苗栗縣': 55, '彰化縣': 178, '南投縣': 66, '雲林縣': 128, '嘉義縣': 83, '屏東縣': 139, '澎湖縣': 10, '花蓮縣': 45, '臺東縣': 22, '金門縣': 5, '連江縣': 0}\n",
        "\n",
        "\n",
        "#---4. 接下來請你計算出每個地區的成人剩餘口罩數量，並且將結果從大到小排列，完成後 Commit 第三個版本：\n",
        "mask_count = {}\n",
        "\n",
        "# 填入欄位名稱\n",
        "for d in data['features']:\n",
        "    conunty = d['properties']['county'] #取出字典的properties與county欄位\n",
        "    adult_mask_count = d['properties']['mask_adult'] #取出字典的properties與mask_adult（成人口罩) 欄位\n",
        "\n",
        "    if conunty not in mask_count: #如果county不在mask_count中\n",
        "      mask_count[conunty] = adult_mask_count #則將county加入mask_count,設為adult_mask_count, 不會變了\n",
        "    else:\n",
        "      mask_count[conunty] += adult_mask_count #如果county在mask_count中，則mask_count[county] + adult_mask_count,持續累加總數\n",
        "\n",
        "# 將結果從大到小排列\n",
        "med_count = dict(sorted(mask_count.items(), key=lambda item: item[1]))\n",
        "\n",
        "print(mask_count)\n",
        "# {'台北市': 12345, '新北市': 45678 ...}\n"
      ]
    }
  ]
}